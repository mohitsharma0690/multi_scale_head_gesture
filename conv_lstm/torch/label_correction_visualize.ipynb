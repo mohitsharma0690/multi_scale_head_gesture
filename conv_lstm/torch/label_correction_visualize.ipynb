{
 "cells": [
  {
   "cell_type": "code",
   "execution_count": 45,
   "metadata": {
    "collapsed": true
   },
   "outputs": [],
   "source": [
    "require 'nn'\n",
    "require 'itorch'\n",
    "require 'image'\n",
    "require 'optim'\n",
    "require 'xlua'\n",
    "require 'paths'\n",
    "\n",
    "require 'model.VanillaLSTM'\n",
    "require 'util.DataLoader'\n",
    "require 'util.BatchLoader'\n",
    "require 'util.KFoldSlidingWindowDataLoader'\n",
    "require 'util.LatentVariableDataLoader'\n",
    "require 'model.MultiScaleLatentConvLSTM'\n",
    "require 'model.ReconsLayer'\n",
    "\n",
    "utils = require 'util.utils'\n",
    "\n",
    "dtype = 'torch.FloatTensor'"
   ]
  },
  {
   "cell_type": "code",
   "execution_count": 46,
   "metadata": {
    "collapsed": true
   },
   "outputs": [],
   "source": [
    "opt = {}\n",
    "-- Dataset options\n",
    "opt.input_h5 = '../../openface_data/mohit_data.h5'\n",
    "opt.train_seq_h5 = '../../openface_data/main_gest_by_file_1.h5'\n",
    "opt.data_dir = '../../openface_data/face_gestures/dataseto_text'\n",
    "opt.aug_gests_h5 = '../../openface_data/main_gest_by_file_aug_1_K_32.h5'\n",
    "opt.batch_size = 200\n",
    "opt.num_classes = 11\n",
    "opt.num_classify = 5\n",
    "opt.win_len = 10\n",
    "opt.win_step = 5\n",
    "opt.num_features = 28\n",
    "-- Return the list of which batch inputs are in the current batch for validation\n",
    "-- data\n",
    "opt.val_batch_info = 1\n",
    "\n",
    "opt.use_label_correction = 1\n",
    "\n",
    "-- Model options\n",
    "opt.init_from = './final_experiments/label_corr/exp1/checkpoint_26.t7'\n",
    "opt.use_dense_conv_lstm = 0\n",
    "\n",
    "-- Output options\n",
    "--[[\n",
    "cmd:option('-save', 'dense_step_5_cls_5')\n",
    "cmd:option('-checkpoint_name', 'checkpoint')\n",
    "cmd:option('-test_log', 'test.log')\n",
    "cmd:option('-test_batch', 'test_batch.json')\n",
    "cmd:option('-test_scores', 'test_scores.json')\n",
    "cmd:option('-test_preds', 'test_preds.json')\n",
    "]]\n",
    "\n",
    "-- Backend options\n",
    "opt.gpu = 1\n",
    "opt.gpu_backend = 'cuda'\n",
    "\n",
    "--[[\n",
    "opt.test_log= opt.save..'/'..opt.test_log\n",
    "opt.test_scores = opt.save .. '/' .. opt.test_scores\n",
    "opt.test_preds = opt.save .. '/' .. opt.test_preds\n",
    "]]\n",
    "\n",
    "--[[\n",
    "local trainLogger = optim.Logger(paths.concat(opt.save, opt.train_log))\n",
    "if opt.use_dense_conv_lstm == 1 then\n",
    "  trainLogger:setNames{'train_err', 'train_loss',}\n",
    "else\n",
    "  trainLogger:setNames{'train_err', 'train_loss', 'l_inf_w1_16',\n",
    "    'l_inf_w1_32', 'l_inf_w1_64'}\n",
    "end\n",
    "]]"
   ]
  },
  {
   "cell_type": "code",
   "execution_count": 47,
   "metadata": {
    "collapsed": false
   },
   "outputs": [
    {
     "data": {
      "text/plain": [
       "Running with CUDA on GPU 1\t\n",
       "Will load model ./final_experiments/label_corr/exp1/checkpoint_26.t7\t\n"
      ]
     },
     "execution_count": 47,
     "metadata": {},
     "output_type": "execute_result"
    },
    {
     "data": {
      "text/plain": [
       "Did load model\t\n",
       "ConfusionMatrix:\n",
       "[[   13308       0       3       2       7]   99.910% \t[class: 1]\n",
       " [       0   13309       3       2       6]   99.917% \t[class: 2]\n",
       " [       2       3   13307       2       6]   99.902% \t[class: 3]\n",
       " [       3       1       3   13311       2]   99.932% \t[class: 4]\n",
       " [       4       4       5       2   13305]]  99.887% \t[class: 5]\n",
       " + average row correct: 99.909909963608% \n",
       " + average rowUcol correct (VOC measure): 99.820001125336% \n",
       " + global correct: 99.90990990991%\t\n",
       "ConfusionMatrix:\n",
       "[[   22634    7738     459    1739     906]   67.613% \t[class: 1]\n",
       " [     824    7777     122     451     127]   83.615% \t[class: 2]\n",
       " [     152      84     551     448      40]   43.216% \t[class: 3]\n",
       " [     524     214     139    3030      45]   76.670% \t[class: 4]\n",
       " [     249     275      88      82     652]]  48.440% \t[class: 5]\n",
       " + average row correct: 63.910565972328% \n",
       " + average rowUcol correct (VOC measure): 41.347966194153% \n",
       " + global correct: 70.200607902736%\t\n"
      ]
     },
     "execution_count": 47,
     "metadata": {},
     "output_type": "execute_result"
    }
   ],
   "source": [
    "if opt.gpu == 1 then\n",
    "  require 'cutorch'\n",
    "  require 'cunn'\n",
    "  require 'cudnn'\n",
    "  cutorch.setDevice(1)\n",
    "  dtype = 'torch.CudaTensor'\n",
    "  print(string.format('Running with CUDA on GPU 1'))\n",
    "else\n",
    "  print('Running in CPU mode')\n",
    "end\n",
    "\n",
    "-- Confusion matrix\n",
    "local classes = {}\n",
    "for i=1,opt.num_classify do table.insert(classes, i) end\n",
    "-- Confusion matrix for data\n",
    "conf = optim.ConfusionMatrix(classes)\n",
    "\n",
    "opt_clone = torch.deserialize(torch.serialize(opt))\n",
    "\n",
    "print('Will load model '..opt.init_from)\n",
    "-- Load model\n",
    "model = torch.load(opt_clone.init_from)\n",
    "\n",
    "print('Did load model')\n",
    "print(model.train_conf)\n",
    "print(model.conf)\n",
    "model = model.model\n",
    "--print(model)"
   ]
  },
  {
   "cell_type": "code",
   "execution_count": 48,
   "metadata": {
    "collapsed": false
   },
   "outputs": [
    {
     "data": {
      "text/plain": [
       "Did save changed weights as /home/mohit/Projects/HumanGestureRecognition/conv_lstm/torch/final_experiments/label_corr/exp1/checkpoint_26_recons_weights.t7\t\n"
      ]
     },
     "execution_count": 48,
     "metadata": {},
     "output_type": "execute_result"
    }
   ],
   "source": [
    "-- Get the reconstruction layer from the model we need to \n",
    "-- inspect its weights\n",
    "\n",
    "reconsLayer = model.net:get(10)\n",
    "\n",
    "function is_identity_matrix(m, n)\n",
    "    if torch.sum(m) ~= n then return false end\n",
    "    for i=1,n do if m[i][i] ~= 1 then return false end end\n",
    "    return true\n",
    "end\n",
    "    \n",
    "function is_diagonally_dominant(m, low, high)\n",
    "    -- Check if all the diagonal values lie between low, high\n",
    "    -- If they do its a diagonally dominant matrix\n",
    "    for i=1,m:size(1) do\n",
    "        local row_sum = torch.sum(m[{{i},{}}]) - m[i][i]\n",
    "        local col_sum = torch.sum(m[{{},{i}}]) - m[i][i]\n",
    "        if ((m[i][i] < low or m[i][i] > high) and \n",
    "            (row_sum > 0.2 or col_sum > 0.2))\n",
    "            then return false end\n",
    "    end\n",
    "    return true\n",
    "end\n",
    "    \n",
    "changed_weights, changed_weights_idx = {}, {}\n",
    "actual_changed_weights, actual_changed_weights_idx = {}, {}\n",
    "local W = reconsLayer.weight\n",
    "for i=1,W:size(1), 5 do\n",
    "    local curr_w = W[{{i,i+4},{}}]:clone()\n",
    "    curr_w = curr_w:view(5,5)\n",
    "    if not is_identity_matrix(curr_w, 5) then \n",
    "        table.insert(changed_weights, curr_w)\n",
    "        table.insert(changed_weights_idx, i)\n",
    "        if not is_diagonally_dominant(curr_w, 0.8, 1.2) then\n",
    "            table.insert(actual_changed_weights, curr_w)\n",
    "            table.insert(actual_changed_weights_idx, i)\n",
    "        end\n",
    "    end\n",
    "end\n",
    "    \n",
    "local save_base_dir = paths.dirname(opt.init_from)\n",
    "local save_file_name = paths.basename(opt.init_from, 't7')\n",
    "save_file_name = save_file_name..'_recons_weights.t7'\n",
    "save_file_name = paths.concat(save_base_dir, save_file_name)\n",
    "local checkpoint = {\n",
    "    changed_weights=changed_weights, \n",
    "    changed_weights_idx=changed_weights_idx,    \n",
    "    actual_changed_weights=actual_changed_weights,\n",
    "    actual_changed_weights_idx=actual_changed_weights_idx,\n",
    "}\n",
    "torch.save(save_file_name, checkpoint)\n",
    "print('Did save changed weights as '..save_file_name)"
   ]
  },
  {
   "cell_type": "code",
   "execution_count": 49,
   "metadata": {
    "collapsed": false,
    "scrolled": false
   },
   "outputs": [
    {
     "data": {
      "text/plain": [
       "Total changed weights: 30429\t\n",
       "Total actual changed weights: 0\t\n",
       "Reconstruction matrix\t\n",
       "Changed weight at idx: 825731\t\n",
       " 0.9759 -0.0192  0.0216  0.0227  0.0258\n",
       " 0.0234  1.0163 -0.0196 -0.0212 -0.0241\n",
       "-0.0023 -0.0014  1.0014  0.0016  0.0016\n",
       "-0.0025 -0.0015  0.0016  1.0016  0.0017\n",
       "-0.0021 -0.0014  0.0014  0.0015  1.0015\n",
       "[torch.FloatTensor of size 5x5]\n",
       "\n",
       "Changed weight at idx: 433026\t\n",
       " 0.9812 -0.0183  0.0202  0.0216  0.0235\n",
       " 0.0186  1.0181 -0.0201 -0.0214 -0.0233\n",
       "-0.0050 -0.0052  1.0053  0.0057  0.0058\n",
       "-0.0041 -0.0041  0.0041  1.0047  0.0050\n",
       "-0.0033 -0.0035  0.0036  0.0043  1.0043\n",
       "[torch.FloatTensor of size 5x5]\n",
       "\n",
       "Changed weight at idx: 230021\t\n",
       " 1.0179  0.0097 -0.0093 -0.0200 -0.0218\n",
       "-0.0188  0.9851  0.0145  0.0207  0.0239\n",
       "-0.0076  0.0025  0.9970  0.0071  0.0079\n",
       "-0.0045  0.0008 -0.0005  1.0067  0.0052\n",
       "-0.0057 -0.0025  0.0026  0.0090  1.0061\n",
       "[torch.FloatTensor of size 5x5]\n",
       "\n",
       "Changed weight at idx: 314901\t\n",
       " 1.0224  0.0184 -0.0251 -0.0199 -0.0296\n",
       "-0.0263  0.9781  0.0286  0.0233  0.0324\n",
       "-0.0025  0.0017  1.0026 -0.0012  0.0029\n",
       "-0.0048 -0.0002  0.0052  0.9976  0.0077\n",
       "-0.0020  0.0018  0.0020 -0.0016  1.0021\n",
       "[torch.FloatTensor of size 5x5]\n",
       "\n",
       "Changed weight at idx: 753071\t\n",
       " 0.9720 -0.0238  0.0270  0.0294  0.0330\n",
       " 0.0278  1.0214 -0.0252 -0.0283 -0.0322\n",
       "-0.0044 -0.0018  1.0019  0.0027  0.0030\n",
       "-0.0048 -0.0012  0.0013  1.0016  0.0019\n",
       "-0.0042 -0.0017  0.0018  0.0025  1.0027\n",
       "[torch.FloatTensor of size 5x5]\n",
       "\n",
       "Changed weight at idx: 787351\t\n",
       " 0.9793 -0.0200  0.0229  0.0215  0.0253\n",
       " 0.0204  1.0196 -0.0226 -0.0213 -0.0250\n",
       "-0.0036 -0.0037  1.0041  0.0041  0.0045\n",
       "-0.0039 -0.0040  0.0042  1.0038  0.0045\n",
       "-0.0031 -0.0032  0.0034  0.0032  1.0035\n",
       "[torch.FloatTensor of size 5x5]\n",
       "\n",
       "Changed weight at idx: 1106206\t\n",
       " 0.9787 -0.0203  0.0228  0.0243  0.0240\n",
       " 0.0207  1.0195 -0.0223 -0.0236 -0.0231\n",
       "-0.0017 -0.0016  1.0022  0.0019  0.0015\n",
       "-0.0020 -0.0020  0.0028  1.0023  0.0017\n",
       "-0.0042 -0.0036  0.0043  0.0045  1.0032\n",
       "[torch.FloatTensor of size 5x5]\n",
       "\n",
       "Changed weight at idx: 1040616\t\n",
       " 1.0214  0.0217 -0.0182 -0.0144 -0.0256\n",
       "-0.0233  0.9782  0.0194  0.0171  0.0275\n",
       "-0.0017 -0.0014  0.9993  0.0010  0.0016\n",
       "-0.0072 -0.0086  0.0060  0.9974  0.0089\n",
       "-0.0019 -0.0013 -0.0006  0.0009  1.0016\n",
       "[torch.FloatTensor of size 5x5]\n",
       "\n",
       "Changed weight at idx: 1302266\t\n",
       " 0.9761 -0.0233  0.0263  0.0240  0.0296\n",
       " 0.0237  1.0230 -0.0261 -0.0238 -0.0294\n",
       "-0.0049 -0.0039  1.0041  0.0052  0.0044\n",
       "-0.0030 -0.0026  0.0026  1.0028  0.0032\n",
       "-0.0049 -0.0040  0.0043  0.0054  1.0044\n",
       "[torch.FloatTensor of size 5x5]\n",
       "\n",
       "Changed weight at idx: 308681\t\n",
       " 0.9750  0.0164  0.0273 -0.0470  0.0482\n",
       "-0.0168  1.0051  0.0233 -0.0424  0.0415\n",
       " 0.0002  0.0147  0.9912 -0.0197  0.0217\n",
       " 0.0194 -0.0171 -0.0092  1.0379 -0.0395\n",
       "-0.0035  0.0077  0.0007 -0.0113  1.0097\n",
       "[torch.FloatTensor of size 5x5]\n",
       "\n",
       "Non diagonal dominant reconstruction matrix\t\n"
      ]
     },
     "execution_count": 49,
     "metadata": {},
     "output_type": "execute_result"
    },
    {
     "ename": "bad argument #1 to '?' (upper bound must be strictly positive at /home/mohit/Projects/torch/pkg/torch/build/TensorMath.c:6486)\nstack traceback:\n\t[C]: at 0x7f3b6f3cefe0\n\t[C]: in function 'random'\n\t[string \"-- Display some random changed weights...\"]:14: in main chunk\n\t[C]: in function 'xpcall'\n\t...hit/Projects/torch/install/share/lua/5.1/itorch/main.lua:210: in function <...hit/Projects/torch/install/share/lua/5.1/itorch/main.lua:174>\n\t...hit/Projects/torch/install/share/lua/5.1/lzmq/poller.lua:75: in function 'poll'\n\t.../Projects/torch/install/share/lua/5.1/lzmq/impl/loop.lua:307: in function 'poll'\n\t.../Projects/torch/install/share/lua/5.1/lzmq/impl/loop.lua:325: in function 'sleep_ex'\n\t.../Projects/torch/install/share/lua/5.1/lzmq/impl/loop.lua:370: in function 'start'\n\t...hit/Projects/torch/install/share/lua/5.1/itorch/main.lua:389: in main chunk\n\t[C]: in function 'require'\n\t(command line):1: in main chunk\n\t[C]: at 0x00405d50",
     "evalue": "",
     "output_type": "error",
     "traceback": [
      "bad argument #1 to '?' (upper bound must be strictly positive at /home/mohit/Projects/torch/pkg/torch/build/TensorMath.c:6486)\nstack traceback:\n\t[C]: at 0x7f3b6f3cefe0\n\t[C]: in function 'random'\n\t[string \"-- Display some random changed weights...\"]:14: in main chunk\n\t[C]: in function 'xpcall'\n\t...hit/Projects/torch/install/share/lua/5.1/itorch/main.lua:210: in function <...hit/Projects/torch/install/share/lua/5.1/itorch/main.lua:174>\n\t...hit/Projects/torch/install/share/lua/5.1/lzmq/poller.lua:75: in function 'poll'\n\t.../Projects/torch/install/share/lua/5.1/lzmq/impl/loop.lua:307: in function 'poll'\n\t.../Projects/torch/install/share/lua/5.1/lzmq/impl/loop.lua:325: in function 'sleep_ex'\n\t.../Projects/torch/install/share/lua/5.1/lzmq/impl/loop.lua:370: in function 'start'\n\t...hit/Projects/torch/install/share/lua/5.1/itorch/main.lua:389: in main chunk\n\t[C]: in function 'require'\n\t(command line):1: in main chunk\n\t[C]: at 0x00405d50"
     ]
    }
   ],
   "source": [
    "-- Display some random changed weights\n",
    "print('Total changed weights: '..#changed_weights)\n",
    "print('Total actual changed weights: '..#actual_changed_weights)\n",
    "num_random = 10\n",
    "print('Reconstruction matrix')\n",
    "for i=1,num_random do\n",
    "    local idx = torch.random(#changed_weights)\n",
    "    print(\"Changed weight at idx: \"..changed_weights_idx[idx])\n",
    "    print(changed_weights[idx])\n",
    "end\n",
    "\n",
    "print('Non diagonal dominant reconstruction matrix')\n",
    "for i=1,num_random do\n",
    "    local idx = torch.random(#actual_changed_weights)\n",
    "    print(\"Changed weight at idx: \"..actual_changed_weights_idx[idx])\n",
    "    print(actual_changed_weights[idx])\n",
    "end\n",
    "\n"
   ]
  },
  {
   "cell_type": "code",
   "execution_count": null,
   "metadata": {
    "collapsed": true
   },
   "outputs": [],
   "source": []
  },
  {
   "cell_type": "code",
   "execution_count": null,
   "metadata": {
    "collapsed": true
   },
   "outputs": [],
   "source": []
  }
 ],
 "metadata": {
  "kernelspec": {
   "display_name": "iTorch",
   "language": "lua",
   "name": "itorch"
  },
  "language_info": {
   "name": "lua",
   "version": "5.1"
  }
 },
 "nbformat": 4,
 "nbformat_minor": 1
}
