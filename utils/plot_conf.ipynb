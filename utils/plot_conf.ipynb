{
 "cells": [
  {
   "cell_type": "code",
   "execution_count": 1,
   "metadata": {
    "collapsed": false
   },
   "outputs": [
    {
     "name": "stdout",
     "output_type": "stream",
     "text": [
      "Populating the interactive namespace from numpy and matplotlib\n"
     ]
    }
   ],
   "source": [
    "import numpy as np\n",
    "import pandas as pd\n",
    "import os\n",
    "import json\n",
    "import h5py\n",
    "import sys\n",
    "import pdb\n",
    "import argparse\n",
    "from sklearn.metrics import confusion_matrix\n",
    "import matplotlib\n",
    "matplotlib.use('Agg') \n",
    "import matplotlib.pyplot as plt\n",
    "import seaborn as sns\n",
    "\n",
    "import print_per_user_conf_mat\n",
    "import data_utils\n",
    "\n",
    "\n",
    "%pylab inline\n",
    "%matplotlib inline\n",
    "plt.rcParams['figure.figsize'] = (10.0, 8.0) # set default size of plots\n",
    "plt.rcParams['image.interpolation'] = 'nearest'\n",
    "plt.rcParams['image.cmap'] = 'gray'\n",
    "\n",
    "# for auto-reloading external modules\n",
    "# see http://stackoverflow.com/questions/1907993/autoreload-of-modules-in-ipython\n",
    "%load_ext autoreload\n",
    "%autoreload 2\n"
   ]
  },
  {
   "cell_type": "code",
   "execution_count": 18,
   "metadata": {
    "collapsed": false,
    "scrolled": false
   },
   "outputs": [
    {
     "name": "stdout",
     "output_type": "stream",
     "text": [
      "File stats- F1: 0.496282484823, Kappa: 0.32418223025, Wt-F1: 0.845568023396\n",
      "\n",
      "===== Confusion matrix =====\n",
      "[[15635  1982  1002   546]\n",
      " [  131  1020    21     0]\n",
      " [   95     0   123     0]\n",
      " [  226     0    28   305]]\n"
     ]
    },
    {
     "data": {
      "image/png": "[encoded data removed]",
      "text/plain": [
       "<matplotlib.figure.Figure at 0x7f4a10f31690>"
      ]
     },
     "metadata": {},
     "output_type": "display_data"
    }
   ],
   "source": [
    "conf = np.zeros((5, 5))\n",
    "\n",
    "conf = np.array(\n",
    "[[15635,  1982,  1002,   546],\n",
    "         [  131,  1020,    21,     0],\n",
    "         [   95,     0,   123,     0],\n",
    "         [  226,     0,    28,   305]],\n",
    ")\n",
    "    \n",
    "def plot_conf(norm_conf):\n",
    "    # Plot using seaborn\n",
    "    # (this is style I used for ResNet matrix)\n",
    "    df_cm = pd.DataFrame(norm_conf)\n",
    "    plt.figure(figsize = (4,3))\n",
    "    labels = ['None', 'Nod', 'Tilt', 'Shake']\n",
    "    sns.heatmap(df_cm, annot=True, cmap='Blues', yticklabels=labels, fmt=\".2f\")\n",
    "    \n",
    "    # This sets the yticks \"upright\" with 0, as opposed to sideways with 90.\n",
    "    plt.yticks(rotation=0)\n",
    "    \n",
    "    plt.show()\n",
    "    \n",
    "\n",
    "norm_conf = data_utils.normalize_conf(conf)\n",
    "f1_score = data_utils.get_f1_score(conf, weights=[1.,1.,1.,1.])\n",
    "wt_f1 = data_utils.computeWeightedF1(conf)\n",
    "kappa_score = data_utils.computeKappa(conf)\n",
    "print('File stats- F1: {}, Kappa: {}, Wt-F1: {}'.format(f1_score, kappa_score, wt_f1))\n",
    "print_per_user_conf_mat.print_conf_matrix(conf)\n",
    "plot_conf(norm_conf)"
   ]
  },
  {
   "cell_type": "code",
   "execution_count": 3,
   "metadata": {
    "collapsed": false
   },
   "outputs": [
    {
     "data": {
      "text/plain": [
       "<Container object of 10 artists>"
      ]
     },
     "execution_count": 3,
     "metadata": {},
     "output_type": "execute_result"
    },
    {
     "data": {
      "image/png": "[encoded data removed]",
      "text/plain": [
       "<matplotlib.figure.Figure at 0x7f4a10f58410>"
      ]
     },
     "metadata": {},
     "output_type": "display_data"
    }
   ],
   "source": [
    "data = np.array(\n",
    "    [1, 1, 2, 4, 5, 1, 10, 4, 1, 3]\n",
    ")\n",
    "data = data / float(np.sum(data))\n",
    "ticks = ['None', 'Nod', 'Jerk', 'Up', 'Down', 'Tilt', 'Shake', 'Turn', 'Fwd', 'Back']\n",
    "plt.bar(range(len(data)), data, tick_label=ticks, orientation='vertical', align='center')"
   ]
  }
 ],
 "metadata": {
  "kernelspec": {
   "display_name": "Python 2",
   "language": "python",
   "name": "python2"
  },
  "language_info": {
   "codemirror_mode": {
    "name": "ipython",
    "version": 2
   },
   "file_extension": ".py",
   "mimetype": "text/x-python",
   "name": "python",
   "nbconvert_exporter": "python",
   "pygments_lexer": "ipython2",
   "version": "2.7.12"
  }
 },
 "nbformat": 4,
 "nbformat_minor": 0
}
