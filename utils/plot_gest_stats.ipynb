{
 "cells": [
  {
   "cell_type": "code",
   "execution_count": 1,
   "metadata": {
    "collapsed": false
   },
   "outputs": [
    {
     "name": "stdout",
     "output_type": "stream",
     "text": [
      "Populating the interactive namespace from numpy and matplotlib\n"
     ]
    }
   ],
   "source": [
    "import numpy as np\n",
    "import pandas as pd\n",
    "import json\n",
    "import sys\n",
    "import os\n",
    "import matplotlib\n",
    "matplotlib.use('Agg') \n",
    "import matplotlib.pyplot as plt\n",
    "import seaborn as sns\n",
    "import pdb\n",
    "\n",
    "import data_utils\n",
    "from data_utils import GestureListUtils\n",
    "from create_easy_gestures import EasyGestureGenerator\n",
    "\n",
    "%pylab inline\n",
    "%matplotlib inline\n",
    "plt.rcParams['figure.figsize'] = (5.0, 4.0) # set default size of plots\n",
    "plt.rcParams['image.interpolation'] = 'nearest'\n",
    "plt.rcParams['image.cmap'] = 'Blues'\n",
    "\n",
    "sns.set_style(\"whitegrid\")\n",
    "\n",
    "# for auto-reloading external modules\n",
    "# see http://stackoverflow.com/questions/1907993/autoreload-of-modules-in-ipython\n",
    "%load_ext autoreload\n",
    "%autoreload 2\n",
    "\n",
    "import copy\n",
    "from matplotlib.backends.backend_pdf import PdfPages\n",
    "\n",
    "json_file = '../conv_lstm/torch/final_experiments/diff_input_types/openface_pose_landmark_vel_only/pose_threshold_context_embedding/multi_scale_conv_lstm/checkpoint_40.json'\n",
    "FDIR = os.path.dirname(json_file)\n",
    "NUM_CLASSIFY = 5"
   ]
  },
  {
   "cell_type": "code",
   "execution_count": 2,
   "metadata": {
    "collapsed": true
   },
   "outputs": [],
   "source": [
    "FLAGS = {}\n",
    "FLAGS['h5_dir'] = '../openface_data/gest_data_38_2/correct_gests_38/'\n",
    "FLAGS['gest_list_h5'] = '../openface_data/gest_data_38_2/gest_list_1.h5'\n",
    "FLAGS['cpm_h5_dir'] = '../openface_data/cpm_output'\n",
    "FLAGS['zface_h5_dir'] = '../data_zface/filtered_headpose'\n",
    "\n",
    "FLAGS_VIZ_SIGMA_FILTERS = True\n",
    "FLAGS_VIZ_COMPARE_GESTURES = False\n",
    "\n",
    "save_easy_gest_list = '044_easy_gest_list.h5'\n",
    "easy_gest_gen = EasyGestureGenerator(FLAGS['h5_dir'],\n",
    "                                     FLAGS['cpm_h5_dir'],\n",
    "                                     FLAGS['zface_h5_dir'],\n",
    "                                     FLAGS['gest_list_h5'],\n",
    "                                     #save_name=save_easy_gest_list\n",
    "                                     )"
   ]
  },
  {
   "cell_type": "code",
   "execution_count": 3,
   "metadata": {
    "collapsed": true
   },
   "outputs": [],
   "source": [
    "def plot_gesture_mean_variance(stats, gest_type=None, xlabel='', ylabel='', title=''):\n",
    "    '''Plots the mean and variance values in stats.\n",
    "    stats: Dictionary with two keys containing the mean and variance values\n",
    "    '''\n",
    "    plt.figure()\n",
    "    mean_val = stats['mean']\n",
    "    std_val = stats['std']\n",
    "    assert len(mean_val) == len(std_val), \"Unequal length for mean and std statistics.\"\n",
    "    \n",
    "    y_err = np.zeros((2, len(mean_val)))\n",
    "    print(mean_val)\n",
    "    y_err[0, :] = np.array(mean_val) - np.array(std_val)\n",
    "    y_err[1, :] = np.array(mean_val) + np.array(std_val)\n",
    "    \n",
    "    if gest_type is not None:\n",
    "        all_gests = ['None', 'Nod', 'Jerk', 'Up', 'Down', 'Tick', 'Tilt', 'Shake', 'Turn', 'Forward', 'Backward']\n",
    "        gest_type = [all_gests[i] for i in gest_type]\n",
    "    else:\n",
    "        gest_type = range(len(mean_vel))\n",
    "    plt.errorbar(range(len(gest_type)), mean_val, y_err, fmt='o', clip_on=True, ls='-', visible=True)\n",
    "    plt.xlabel(xlabel)\n",
    "    # xtickNames = plt.setp(ax1, xticklabels=gest_labels)\n",
    "    # plt.setp(xtickNames, rotation=45, fontsize=8)\n",
    "    plt.setp(gest_type)\n",
    "    plt.ylabel(ylabel)\n",
    "    plt.title(title)\n",
    "    plt.show()\n",
    "    "
   ]
  },
  {
   "cell_type": "code",
   "execution_count": 4,
   "metadata": {
    "collapsed": true
   },
   "outputs": [],
   "source": [
    "def plot_box_plot(data, gest_labels, title='', xlabel='', ylabel=''):\n",
    "    all_gests = ['None', 'Nod', 'Jerk', 'Up', 'Down', 'Tick', 'Tilt', 'Shake', 'Turn', 'Forward', 'Backward']\n",
    "    gest_labels = [all_gests[i] for i in gest_labels]\n",
    "    \n",
    "    fig, ax1 = plt.subplots(figsize=(4, 4))\n",
    "    # fig.canvas.set_window_title('A Boxplot Example')\n",
    "    plt.subplots_adjust(left=0.075, right=0.95, top=0.9, bottom=0.25)\n",
    "\n",
    "    #bp = plt.boxplot(data, notch=0, sym='+', vert=1, whis=1.5)\n",
    "    bp = sns.boxplot(data=data)\n",
    "    \n",
    "    # plt.setp(bp['boxes'], color='black')\n",
    "    # plt.setp(bp['whiskers'], color='black')\n",
    "    # plt.setp(bp['fliers'], color='red', marker='+')\n",
    "    \n",
    "    # Add a horizontal grid to the plot, but make it very light in color\n",
    "    # so we can use it for reading data values but not be distracting\n",
    "    ax1.yaxis.grid(True, linestyle='-', which='major', color='lightgrey',\n",
    "                   alpha=0.5)\n",
    "\n",
    "    # Hide these grid behind plot objects\n",
    "    ax1.set_axisbelow(True)\n",
    "    ax1.set_title(title)\n",
    "    ax1.set_xlabel(xlabel)\n",
    "    ax1.set_ylabel(ylabel)\n",
    "    \n",
    "    xtickNames = plt.setp(ax1, xticklabels=gest_labels)\n",
    "    plt.setp(xtickNames, rotation=0, fontsize=12)\n",
    "    \n",
    "    # TODO: Add legend\n",
    "    \n",
    "    #pp = PdfPages('intra_person_variance.pdf')\n",
    "    #plt.savefig(pp, format='pdf')\n",
    "    #pp.close()\n",
    "    \n",
    "    plt.show()"
   ]
  },
  {
   "cell_type": "code",
   "execution_count": 5,
   "metadata": {
    "collapsed": true
   },
   "outputs": [],
   "source": [
    "def plot_dataframe_as_boxplot(data_frame, x='', y='', hue='', gest_labels=None):\n",
    "    all_gests = ['None', 'Nod', 'Jerk', 'Up', 'Down', 'Tick', 'Tilt', 'Shake', 'Turn', 'Forward', 'Backward']\n",
    "    gest_labels = [all_gests[i] for i in gest_labels]\n",
    "    \n",
    "    fig, ax1 = plt.subplots(figsize=(6, 6))\n",
    "    # fig.canvas.set_window_title('A Boxplot Example')\n",
    "    plt.subplots_adjust(left=0.075, right=0.95, top=0.9, bottom=0.25)\n",
    "    \n",
    "    bp = sns.boxplot(x=x, y=y, hue=hue, data=data_frame, palette='Set3')"
   ]
  },
  {
   "cell_type": "code",
   "execution_count": 6,
   "metadata": {
    "collapsed": false
   },
   "outputs": [
    {
     "name": "stderr",
     "output_type": "stream",
     "text": [
      "/usr/local/lib/python2.7/dist-packages/numpy/core/fromnumeric.py:2889: RuntimeWarning: Mean of empty slice.\n",
      "  out=out, **kwargs)\n",
      "/usr/local/lib/python2.7/dist-packages/numpy/core/_methods.py:135: RuntimeWarning: Degrees of freedom <= 0 for slice\n",
      "  keepdims=keepdims)\n"
     ]
    }
   ],
   "source": [
    "users = [\n",
    "    '040_static.mp4.txt.h5',\n",
    "    '038_static.mp4.txt.h5',\n",
    "    '025_static.mp4.txt.h5',\n",
    "    '041_static.mp4.txt.h5',\n",
    "    '042_static.mp4.txt.h5',\n",
    "    '043_static.mp4.txt.h5',\n",
    "    '044_static.mp4.txt.h5',\n",
    "    '031_static.mp4.txt.h5',\n",
    "    '015_static.mp4.txt.h5',\n",
    "]\n",
    "labels = range(11)\n",
    "\n",
    "gest_stats, all_stats_combined = {}, {}\n",
    "for user in users:\n",
    "    gest_stats[user] = {}\n",
    "    for label in labels:\n",
    "        gest_stats[user][label] = {}\n",
    "        # Get the mean/std for gestures of type 'label' in 'user'.\n",
    "        # Note these values are for individual gestures.\n",
    "        gests = easy_gest_gen.get_stats_for_gest(user, label)\n",
    "        final_stats = gest_stats[user][label]\n",
    "        if gests is None:\n",
    "            continue\n",
    "        for stat, value in gests.iteritems():\n",
    "            final_stats[stat] = {}\n",
    "            final_stats[stat]['mean'] = np.mean(value)\n",
    "\n",
    "            final_stats[stat]['std'] = np.std(value)\n",
    "            # Use $ since it shouldn't come in the filename\n",
    "            k = '{}${}${}'.format(user, label, stat)\n",
    "            all_stats_combined[k] = {'mean': np.mean(value),\n",
    "                                     'std': np.std(value),\n",
    "                                     'values': copy.deepcopy(value),\n",
    "                                    }"
   ]
  },
  {
   "cell_type": "code",
   "execution_count": 7,
   "metadata": {
    "collapsed": false,
    "scrolled": true
   },
   "outputs": [],
   "source": [
    "user1 = '038_static.mp4.txt.h5'\n",
    "stats = ['pose_x', 'disp_nosetip_x', 'disp_nosetip_y']\n",
    "sns.set_style('whitegrid')\n",
    "for user in []:\n",
    "    for stat in stats:\n",
    "        mean_stats, std_stats, value_stats = [], [], []\n",
    "        gest_type = []\n",
    "        for k, v in sorted(all_stats_combined.iteritems()):\n",
    "            if user in k and stat in k and 'std' not in k:\n",
    "                mean_stats.append(v['mean'])\n",
    "                std_stats.append(v['std'])\n",
    "                value_stats.append(v['values'])\n",
    "                gest_type.append(int(k.split('$')[1]))\n",
    "                \n",
    "        print(gest_type)\n",
    "        mean_stats = [x for (y,x) in sorted(zip(gest_type, mean_stats), key=lambda pair: pair[0])] \n",
    "        std_stats = [x for (y,x) in sorted(zip(gest_type, std_stats), key=lambda pair: pair[0])] \n",
    "        value_stats = [x for (y,x) in sorted(zip(gest_type, value_stats), key=lambda pair: pair[0])] \n",
    "        \n",
    "        gest_type = sorted(gest_type)\n",
    "        \n",
    "        gest_to_plot = [6, 7, 8, 9]\n",
    "        final_value_stats, final_labels = [], []\n",
    "        print(len(value_stats))\n",
    "        print(gest_type)\n",
    "        for gest in gest_to_plot:\n",
    "            final_value_stats.append(value_stats[gest])\n",
    "            final_labels.append(gest_type[gest])\n",
    "            \n",
    "        '''\n",
    "        plot_gesture_mean_variance(\n",
    "            {'mean': mean_stats, 'std': std_stats},\n",
    "            gest_type=gest_type,\n",
    "            xlabel='Gesture',\n",
    "            ylabel=stat,\n",
    "            title='{} stats for {}'.format(user, stat)\n",
    "        )\n",
    "        '''\n",
    "        print(final_labels)\n",
    "        plot_box_plot(final_value_stats, final_labels, xlabel='Gesture', ylabel='Displacement') "
   ]
  },
  {
   "cell_type": "code",
   "execution_count": 13,
   "metadata": {
    "collapsed": false
   },
   "outputs": [
    {
     "data": {
      "image/png": "[encoded data removed]",
      "text/plain": [
       "<matplotlib.figure.Figure at 0x7f7915f6d150>"
      ]
     },
     "metadata": {},
     "output_type": "display_data"
    },
    {
     "data": {
      "image/png": "[encoded data removed]",
      "text/plain": [
       "<matplotlib.figure.Figure at 0x7f79160b5a50>"
      ]
     },
     "metadata": {},
     "output_type": "display_data"
    },
    {
     "data": {
      "image/png": "[encoded data removed]",
      "text/plain": [
       "<matplotlib.figure.Figure at 0x7f7915bd5e10>"
      ]
     },
     "metadata": {},
     "output_type": "display_data"
    }
   ],
   "source": [
    "for stat in ['pose_x', 'disp_nosetip_x', 'disp_nosetip_y']:\n",
    "    df = pd.DataFrame()\n",
    "    final_stats = {'displacement': [], 'gesture': [], 'user': []}\n",
    "    # labels, labels_str = [1,2,5,10], ['Nod', 'Jerk', 'Tick', 'Backward']\n",
    "    labels, labels_str = [6,8,9,10], ['Tilt', 'Turn', 'Forward', 'Backward']\n",
    "    \n",
    "    for user_idx, user in enumerate(['043_static.mp4.txt.h5', '040_static.mp4.txt.h5']):\n",
    "        \n",
    "        mean_stats, std_stats, value_stats = [], [], []\n",
    "        gest_type = []\n",
    "                 \n",
    "        for k, v in sorted(all_stats_combined.iteritems()):\n",
    "            if user in k and stat in k and int(k.split('$')[1]) in labels and 'std' not in k:\n",
    "                mean_stats.append(v['mean'])\n",
    "                std_stats.append(v['std'])\n",
    "                value_stats.append(v['values'])\n",
    "                final_stats['displacement'] += v['values']\n",
    "                _label_idx = labels.index(int(k.split('$')[1]))\n",
    "                final_stats['gesture'] += [labels_str[_label_idx]]*len(v['values'])\n",
    "                u = 'user1' if user_idx == 0 else 'user2'\n",
    "                final_stats['user'] += [u]*len(v['values'])\n",
    "                gest_type.append(int(k.split('$')[1]))\n",
    "        \n",
    "    data_frame = pd.DataFrame.from_dict(final_stats)\n",
    "    data_frame['gesture'] = data_frame['gesture'].astype('category')\n",
    "    data_frame['user'] = data_frame['user'].astype('category')\n",
    "    \n",
    "    plot_dataframe_as_boxplot(data_frame, x='gesture', y='displacement', hue='user', gest_labels=labels)"
   ]
  }
 ],
 "metadata": {
  "kernelspec": {
   "display_name": "Python 2",
   "language": "python",
   "name": "python2"
  },
  "language_info": {
   "codemirror_mode": {
    "name": "ipython",
    "version": 2
   },
   "file_extension": ".py",
   "mimetype": "text/x-python",
   "name": "python",
   "nbconvert_exporter": "python",
   "pygments_lexer": "ipython2",
   "version": "2.7.12"
  }
 },
 "nbformat": 4,
 "nbformat_minor": 1
}
