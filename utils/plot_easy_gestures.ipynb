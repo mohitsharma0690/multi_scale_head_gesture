{
 "cells": [
  {
   "cell_type": "code",
   "execution_count": 20,
   "metadata": {
    "collapsed": false
   },
   "outputs": [
    {
     "name": "stdout",
     "output_type": "stream",
     "text": [
      "Populating the interactive namespace from numpy and matplotlib\n",
      "The autoreload extension is already loaded. To reload it, use:\n",
      "  %reload_ext autoreload\n"
     ]
    }
   ],
   "source": [
    "import numpy as np\n",
    "import pandas as pd\n",
    "import json\n",
    "import sys\n",
    "import os\n",
    "import matplotlib\n",
    "matplotlib.use('Agg') \n",
    "import matplotlib.pyplot as plt\n",
    "import seaborn as sns\n",
    "import pdb\n",
    "\n",
    "import data_utils\n",
    "from data_utils import GestureListUtils\n",
    "\n",
    "#print('appending to sys path')\n",
    "#print(os.path.dirname(os.path.dirname(os.path.abspath(__file__))))\n",
    "#sys.path.append(os.path.dirname(os.path.dirname(os.path.abspath(__file__))))\n",
    "\n",
    "from create_easy_gestures import EasyGestureGenerator\n",
    "\n",
    "%pylab inline\n",
    "%matplotlib inline\n",
    "plt.rcParams['figure.figsize'] = (10.0, 8.0) # set default size of plots\n",
    "plt.rcParams['image.interpolation'] = 'nearest'\n",
    "plt.rcParams['image.cmap'] = 'Blues'\n",
    "\n",
    "# for auto-reloading external modules\n",
    "# see http://stackoverflow.com/questions/1907993/autoreload-of-modules-in-ipython\n",
    "%load_ext autoreload\n",
    "%autoreload 2\n",
    "\n",
    "json_file = '../conv_lstm/torch/final_experiments/diff_input_types/openface_pose_landmark_vel_only/pose_threshold_context_embedding/multi_scale_conv_lstm/checkpoint_40.json'\n",
    "FDIR = os.path.dirname(json_file)\n",
    "NUM_CLASSIFY = 5"
   ]
  },
  {
   "cell_type": "code",
   "execution_count": 21,
   "metadata": {
    "collapsed": true
   },
   "outputs": [],
   "source": [
    "FLAGS = {}\n",
    "FLAGS['h5_dir'] = '../data_cardiff/openface_h5'\n",
    "FLAGS['gest_list_h5'] = '../data_cardiff/gest_list/video_type_2/org_gest_list.h5'\n",
    "FLAGS['cpm_h5_dir'] = '../openface_data/cpm_output'\n",
    "FLAGS['zface_h5_dir'] = '../data_zface/filtered_headpose'\n",
    "\n",
    "FLAGS_VIZ_SIGMA_FILTERS = True\n",
    "FLAGS_VIZ_COMPARE_GESTURES = False"
   ]
  },
  {
   "cell_type": "code",
   "execution_count": 22,
   "metadata": {
    "collapsed": false
   },
   "outputs": [
    {
     "data": {
      "text/plain": [
       "\"\\nfor label in range(11):\\n    gest_mean_vel = easy_gest_gen.get_stats_for_gest('044_static.mp4.txt.h5', label)\\n    if gest_mean_vel is None:\\n        continue\\n\\n    plt.scatter(range(len(gest_mean_vel['nosetip_x'])),\\n                gest_mean_vel['nosetip_x'])\\n    plt.scatter(range(len(gest_mean_vel['nosetip_y'])), \\n                gest_mean_vel['nosetip_y'],\\n                color='r')\\n                #marker='+'\\n    plt.title('File 044, label: {}'.format(label))\\n    plt.show()\\n\""
      ]
     },
     "execution_count": 22,
     "metadata": {},
     "output_type": "execute_result"
    }
   ],
   "source": [
    "save_easy_gest_list = '044_easy_gest_list.h5'\n",
    "easy_gest_gen = EasyGestureGenerator(FLAGS['h5_dir'],\n",
    "                                     FLAGS['cpm_h5_dir'],\n",
    "                                     FLAGS['zface_h5_dir'],\n",
    "                                     FLAGS['gest_list_h5'],\n",
    "                                     #save_name=save_easy_gest_list\n",
    "    )\n",
    "\n",
    "# easy_gest_gen.create_gest_list()\n",
    "'''\n",
    "for label in range(11):\n",
    "    gest_mean_vel = easy_gest_gen.get_stats_for_gest('044_static.mp4.txt.h5', label)\n",
    "    if gest_mean_vel is None:\n",
    "        continue\n",
    "\n",
    "    plt.scatter(range(len(gest_mean_vel['nosetip_x'])),\n",
    "                gest_mean_vel['nosetip_x'])\n",
    "    plt.scatter(range(len(gest_mean_vel['nosetip_y'])), \n",
    "                gest_mean_vel['nosetip_y'],\n",
    "                color='r')\n",
    "                #marker='+'\n",
    "    plt.title('File 044, label: {}'.format(label))\n",
    "    plt.show()\n",
    "'''"
   ]
  },
  {
   "cell_type": "code",
   "execution_count": 23,
   "metadata": {
    "collapsed": false,
    "scrolled": true
   },
   "outputs": [
    {
     "name": "stdout",
     "output_type": "stream",
     "text": [
      "Will write easy gesture list to ../data_cardiff/gest_list/video_type_2/1_sigma/1_sigma_gest_list.h5\n",
      "Did write easy gesture list to ../data_cardiff/gest_list/video_type_2/1_sigma/1_sigma_gest_list.h5\n",
      "Did save csv at ../data_cardiff/gest_list/video_type_2/1_sigma/1_sigma_gest_list.csv\n",
      "011_P6_P2_1602_C1.h5: [69, 9, 1, 1, 1, 1, 1, 1, 1, 1, 1]\n",
      "012_P6_P2_1602_C2.h5: [68, 15, 1, 1, 1, 1, 1, 1, 1, 1, 1]\n",
      "016_P6_P4_1602_C2.h5: [70, 2, 1, 1, 1, 1, 3, 1, 1, 1, 1]\n",
      "009_P5_P3_2202_C1.h5: [54, 3, 1, 1, 1, 1, 1, 1, 1, 1, 1]\n",
      "015_P6_P4_1602_C1.h5: [72, 3, 1, 1, 1, 1, 1, 1, 5, 1, 1]\n",
      "014_P6_P3_1602_C2.h5: [66, 13, 1, 1, 1, 1, 1, 1, 4, 1, 1]\n",
      "013_P6_P3_1602_C1.h5: [54, 13, 1, 1, 1, 1, 1, 1, 1, 1, 1]\n",
      "010_P5_P3_2202_C2.h5: [65, 3, 1, 1, 1, 1, 1, 1, 1, 1, 1]\n",
      "007_P5_P2_1003_C1.h5: [53, 4, 1, 1, 1, 1, 1, 1, 1, 1, 1]\n",
      "002_P1_P2_1402_C2.h5: [62, 1, 1, 1, 1, 1, 2, 1, 2, 1, 1]\n",
      "006_P3_P4_1502_C2.h5: [64, 13, 1, 1, 1, 1, 1, 1, 1, 1, 1]\n",
      "005_P3_P4_1502_C1.h5: [60, 1, 1, 1, 1, 1, 1, 1, 1, 1, 1]\n",
      "001_P1_P2_1402_C1.h5: [57, 2, 1, 1, 1, 1, 1, 1, 4, 1, 1]\n",
      "008_P5_P2_1003_C2.h5: [69, 7, 1, 1, 1, 1, 1, 1, 1, 1, 1]\n",
      "004_P1_P3_1502_C2.h5: [71, 7, 1, 1, 1, 1, 1, 1, 1, 1, 1]\n",
      "003_P1_P3_1502_C1.h5: [75, 1, 1, 1, 1, 1, 1, 1, 2, 1, 1]\n"
     ]
    }
   ],
   "source": [
    "def visualize_sigma_filters(easy_gest_gen, user, sigma_factor=1):\n",
    "    new_gest_list, removed_gest_list = easy_gest_gen.create_sigma_gest_list(\n",
    "        sigma_factor=sigma_factor)\n",
    "    org_gest_list = GestureListUtils.read_gesture_list(FLAGS['gest_list_h5'])\n",
    "\n",
    "    user_2 = '040_static.mp4.txt.h5'\n",
    "    group = 'train' if user in new_gest_list['train'].keys() else 'test'\n",
    "    group_2 = 'train' if user in new_gest_list['train'].keys() else 'test'\n",
    "    for label in xrange(11):\n",
    "        valid_gests = new_gest_list[group][user][str(label)]\n",
    "        invalid_gests = removed_gest_list[group][user][str(label)]\n",
    "        \n",
    "        gest_stats = easy_gest_gen.get_stats_for_gest(user, label)\n",
    "        old_gest_list = org_gest_list[group][user][str(label)]\n",
    "        \n",
    "        valid_nosetip_x, valid_nosetip_y = [], []\n",
    "        if valid_gests is not None:\n",
    "            # There are not a lot of gestures O(n^2) is fine here\n",
    "            \n",
    "            for i in xrange(len(valid_gests)):\n",
    "                for j in xrange(len(old_gest_list)):\n",
    "                    if valid_gests[i][0] == old_gest_list[j][0]:  # Same start frame\n",
    "                        valid_nosetip_x.append(gest_stats['nosetip_x'][j])\n",
    "                        valid_nosetip_y.append(gest_stats['nosetip_y'][j])\n",
    "                        break\n",
    "                assert len(valid_nosetip_x) == i+1, \"Did not find frames for invalid gests\"\n",
    "\n",
    "        \n",
    "        invalid_nosetip_x, invalid_nosetip_y = [], []\n",
    "        if invalid_gests is not None:\n",
    "            for i in xrange(len(invalid_gests)):\n",
    "                for j in xrange(len(old_gest_list)):\n",
    "                    if invalid_gests[i][0] == old_gest_list[j][0]: # Same start frame\n",
    "                        invalid_nosetip_x.append(gest_stats['nosetip_x'][j])\n",
    "                        invalid_nosetip_y.append(gest_stats['nosetip_y'][j])\n",
    "                        break\n",
    "\n",
    "                assert len(invalid_nosetip_x) == i+1, \"Did not find frames for invalid gests\"\n",
    "        \n",
    "        # Visualize\n",
    "        plt.scatter(range(len(valid_nosetip_x)), valid_nosetip_x, color='b')\n",
    "        plt.scatter(range(len(valid_nosetip_y)), valid_nosetip_y, color='g')\n",
    "        plt.scatter(range(len(invalid_nosetip_x)), invalid_nosetip_x, color='r', marker='s')\n",
    "        plt.scatter(range(len(invalid_nosetip_y)), invalid_nosetip_y, color='c', marker='s')\n",
    "        plt.title(\"File {}, label: {}\".format(user, label))\n",
    "        plt.show()\n",
    "    \n",
    "    \n",
    "if FLAGS_VIZ_SIGMA_FILTERS:\n",
    "    # visualize_sigma_filters(easy_gest_gen, '012_P6_P2_1602_C2.h5', sigma_factor=1)\n",
    "    \n",
    "    new_gest_list, removed_gest_list = easy_gest_gen.create_sigma_gest_list(\n",
    "        sigma_factor=1)\n",
    "    EasyGestureGenerator.write_gest_list_h5(\n",
    "        '../data_cardiff/gest_list/video_type_2/1_sigma/1_sigma_gest_list.h5',\n",
    "        new_gest_list,\n",
    "        removed_gest_list)\n",
    "    # print(easy_gest_gen)\n",
    "    '''\n",
    "    new_gest_list, removed_gest_list = easy_gest_gen.create_global_gest_list(threshold=1.0, debug=False)\n",
    "    EasyGestureGenerator.write_gest_list_h5(\n",
    "        '../data_cardiff/gest_list/video_type_3/threshold_1_0/th_1_0_gest_list.h5',\n",
    "        new_gest_list,\n",
    "        removed_gest_list)\n",
    "\n",
    "    easy_gest_gen.create_global_gest_list()\n",
    "    '''\n",
    "\n"
   ]
  },
  {
   "cell_type": "code",
   "execution_count": 24,
   "metadata": {
    "collapsed": false
   },
   "outputs": [],
   "source": [
    "if FLAGS_VIZ_COMPARE_GESTURES:\n",
    "    gest_list_data = GestureListUtils.read_gesture_list(FLAGS['gest_list_h5'])\n",
    "    user1, user2 = '038_static.mp4.txt.h5', '022_static.mp4.txt.h5'\n",
    "    user3, user4 = '040_static.mp4.txt.h5', '009_static.mp4.txt.h5'\n",
    "    all_users = [user1, user2, user3, user4]\n",
    "    all_colors = ['b', 'g', 'r', 'y']\n",
    "    for label in xrange(11):\n",
    "        gests = [easy_gest_gen.get_stats_for_gest(user, label) for user in all_users]\n",
    "        if not gests[0] or not gests[1]: continue\n",
    "        \n",
    "        user_nosetip_x, user_nosetip_y = [], []\n",
    "        for i in xrange(len(all_users)):\n",
    "            if gests[i] is None: continue\n",
    "            user_nosetip_x.append([g for g in gests[i]['nosetip_x']])\n",
    "            user_nosetip_y.append([g for g in gests[i]['nosetip_y']])\n",
    "        \n",
    "        for i, u in enumerate(user_nosetip_x):\n",
    "            plt.scatter(range(len(u)), u, color=all_colors[i])\n",
    "        plt.title('noseX User {} vs {}, Label: {}'.format(user1, user2, label))\n",
    "        plt.show()\n",
    "        \n",
    "        for i, u in enumerate(user_nosetip_y):\n",
    "            plt.scatter(range(len(u)), u, color=all_colors[i])\n",
    "        plt.title('noseY User {} vs {}, Label: {}'.format(user1, user2, label))\n",
    "        plt.show()\n"
   ]
  }
 ],
 "metadata": {
  "kernelspec": {
   "display_name": "Python 2",
   "language": "python",
   "name": "python2"
  },
  "language_info": {
   "codemirror_mode": {
    "name": "ipython",
    "version": 2
   },
   "file_extension": ".py",
   "mimetype": "text/x-python",
   "name": "python",
   "nbconvert_exporter": "python",
   "pygments_lexer": "ipython2",
   "version": "2.7.12"
  }
 },
 "nbformat": 4,
 "nbformat_minor": 1
}
